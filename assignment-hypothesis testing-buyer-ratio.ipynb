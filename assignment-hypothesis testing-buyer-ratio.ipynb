{
 "cells": [
  {
   "cell_type": "code",
   "execution_count": 10,
   "id": "868986e6",
   "metadata": {},
   "outputs": [],
   "source": [
    "import numpy as np\n",
    "import pandas as pd\n",
    "from scipy.stats import chi2_contingency\n",
    "from scipy import stats"
   ]
  },
  {
   "cell_type": "code",
   "execution_count": 11,
   "id": "c381fb17",
   "metadata": {},
   "outputs": [
    {
     "data": {
      "text/html": [
       "<div>\n",
       "<style scoped>\n",
       "    .dataframe tbody tr th:only-of-type {\n",
       "        vertical-align: middle;\n",
       "    }\n",
       "\n",
       "    .dataframe tbody tr th {\n",
       "        vertical-align: top;\n",
       "    }\n",
       "\n",
       "    .dataframe thead th {\n",
       "        text-align: right;\n",
       "    }\n",
       "</style>\n",
       "<table border=\"1\" class=\"dataframe\">\n",
       "  <thead>\n",
       "    <tr style=\"text-align: right;\">\n",
       "      <th></th>\n",
       "      <th>Observed Values</th>\n",
       "      <th>East</th>\n",
       "      <th>West</th>\n",
       "      <th>North</th>\n",
       "      <th>South</th>\n",
       "    </tr>\n",
       "  </thead>\n",
       "  <tbody>\n",
       "    <tr>\n",
       "      <th>0</th>\n",
       "      <td>Males</td>\n",
       "      <td>50</td>\n",
       "      <td>142</td>\n",
       "      <td>131</td>\n",
       "      <td>70</td>\n",
       "    </tr>\n",
       "    <tr>\n",
       "      <th>1</th>\n",
       "      <td>Females</td>\n",
       "      <td>435</td>\n",
       "      <td>1523</td>\n",
       "      <td>1356</td>\n",
       "      <td>750</td>\n",
       "    </tr>\n",
       "  </tbody>\n",
       "</table>\n",
       "</div>"
      ],
      "text/plain": [
       "  Observed Values  East  West  North  South\n",
       "0           Males    50   142    131     70\n",
       "1         Females   435  1523   1356    750"
      ]
     },
     "execution_count": 11,
     "metadata": {},
     "output_type": "execute_result"
    }
   ],
   "source": [
    "data=pd.read_csv('D:\\\\Data science\\\\BuyerRatio.csv')\n",
    "data"
   ]
  },
  {
   "cell_type": "code",
   "execution_count": 12,
   "id": "0a41ebab",
   "metadata": {},
   "outputs": [],
   "source": [
    "observed_values=np.array([[50,142,131,70],[435,1532,1356,750]])"
   ]
  },
  {
   "cell_type": "code",
   "execution_count": 13,
   "id": "52c02580",
   "metadata": {},
   "outputs": [],
   "source": [
    "chi2,p_val,dof,expected_values=stats.chi2_contingency(observed_values)"
   ]
  },
  {
   "cell_type": "code",
   "execution_count": 14,
   "id": "720a5e0d",
   "metadata": {},
   "outputs": [
    {
     "name": "stdout",
     "output_type": "stream",
     "text": [
      "1.6577146592066643\n"
     ]
    }
   ],
   "source": [
    "print(chi2)"
   ]
  },
  {
   "cell_type": "code",
   "execution_count": 15,
   "id": "4b51ae86",
   "metadata": {},
   "outputs": [
    {
     "name": "stdout",
     "output_type": "stream",
     "text": [
      "0.6463753422699474\n"
     ]
    }
   ],
   "source": [
    "print(p_val)"
   ]
  },
  {
   "cell_type": "code",
   "execution_count": 18,
   "id": "debd7144",
   "metadata": {},
   "outputs": [
    {
     "name": "stdout",
     "output_type": "stream",
     "text": [
      "3\n"
     ]
    }
   ],
   "source": [
    "print(dof)"
   ]
  },
  {
   "cell_type": "code",
   "execution_count": 17,
   "id": "fcdb8d71",
   "metadata": {},
   "outputs": [
    {
     "name": "stdout",
     "output_type": "stream",
     "text": [
      "H1 is rejected and H0 is accepted\n"
     ]
    }
   ],
   "source": [
    "alpha=0.05\n",
    "if p_val < alpha:\n",
    "    print(\"H0 is rejected and H1 is accepted\")\n",
    "if p_val > alpha:\n",
    "        print(\"H1 is rejected and H0 is accepted\")"
   ]
  },
  {
   "cell_type": "code",
   "execution_count": 19,
   "id": "ef86e703",
   "metadata": {},
   "outputs": [
    {
     "data": {
      "text/plain": [
       "Chi2ContingencyResult(statistic=1.6577146592066643, pvalue=0.6463753422699474, dof=3, expected_freq=array([[  42.67913121,  147.30900134,  130.85333632,   72.15853112],\n",
       "       [ 442.32086879, 1526.69099866, 1356.14666368,  747.84146888]]))"
      ]
     },
     "execution_count": 19,
     "metadata": {},
     "output_type": "execute_result"
    }
   ],
   "source": [
    "chi2_contingency(observed_values)"
   ]
  },
  {
   "cell_type": "code",
   "execution_count": null,
   "id": "976d0085",
   "metadata": {},
   "outputs": [],
   "source": []
  }
 ],
 "metadata": {
  "kernelspec": {
   "display_name": "Python 3 (ipykernel)",
   "language": "python",
   "name": "python3"
  },
  "language_info": {
   "codemirror_mode": {
    "name": "ipython",
    "version": 3
   },
   "file_extension": ".py",
   "mimetype": "text/x-python",
   "name": "python",
   "nbconvert_exporter": "python",
   "pygments_lexer": "ipython3",
   "version": "3.11.4"
  }
 },
 "nbformat": 4,
 "nbformat_minor": 5
}
